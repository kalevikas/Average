{
 "cells": [
  {
   "cell_type": "markdown",
   "id": "9b12de9a",
   "metadata": {},
   "source": [
    "## Write a program to print average of 2 numbers."
   ]
  },
  {
   "cell_type": "code",
   "execution_count": 2,
   "id": "4cd125fb",
   "metadata": {},
   "outputs": [
    {
     "name": "stdout",
     "output_type": "stream",
     "text": [
      "5\n",
      "2\n",
      "average is: 3.5\n"
     ]
    }
   ],
   "source": [
    "num1=int(input())\n",
    "num2=int(input())\n",
    "\n",
    "avg=(num1+num2)/2\n",
    "\n",
    "print('average is:',avg)"
   ]
  },
  {
   "cell_type": "code",
   "execution_count": 10,
   "id": "1cb114f9",
   "metadata": {},
   "outputs": [
    {
     "name": "stdout",
     "output_type": "stream",
     "text": [
      "Enter number of element which you want to get avg.:5\n",
      "Enter elements: 1\n",
      "Enter elements: 2\n",
      "Enter elements: 3\n",
      "Enter elements: 4\n",
      "Enter elements: 5\n",
      "Avg is: 3.0\n"
     ]
    }
   ],
   "source": [
    "len=int(input(\"Enter number of element which you want to get avg.:\"))\n",
    "result=[]\n",
    "\n",
    "for i in range(len):\n",
    "    numbers=int(input(\"Enter elements: \"))\n",
    "    result.append(numbers)\n",
    "addition=sum(result)\n",
    "avg=(addition/len)\n",
    "print('Avg is:',avg)"
   ]
  },
  {
   "cell_type": "markdown",
   "id": "ab117e44",
   "metadata": {},
   "source": [
    "#### Get 5 numbers from user and print it in list."
   ]
  },
  {
   "cell_type": "code",
   "execution_count": 13,
   "id": "2c6c278a",
   "metadata": {},
   "outputs": [
    {
     "name": "stdout",
     "output_type": "stream",
     "text": [
      "Enter numbers:4\n",
      "Enter numbers:5\n",
      "Enter numbers:6\n",
      "Enter numbers:8\n",
      "Enter numbers:10\n",
      "[4, 5, 6, 8, 10]\n"
     ]
    }
   ],
   "source": [
    "lst=[]\n",
    "for i in range(5):\n",
    "    num=int(input(\"Enter numbers:\"))\n",
    "    lst.append(num)\n",
    "print(lst)"
   ]
  },
  {
   "cell_type": "code",
   "execution_count": 16,
   "id": "d068a79f",
   "metadata": {},
   "outputs": [
    {
     "name": "stdout",
     "output_type": "stream",
     "text": [
      "Enter number of elements which you want to get avg: 5\n",
      "Enter elements: 1\n",
      "Enter elements: 2\n",
      "Enter elements: 3\n",
      "Enter elements: 4\n",
      "Enter elements: 5\n",
      "Average of given numbers is 3.0\n"
     ]
    }
   ],
   "source": [
    "occurance=int(input(\"Enter number of elements which you want to get avg: \"))\n",
    "re=0\n",
    "\n",
    "for i in range(occurance):\n",
    "    ele=int(input(\"Enter elements: \"))\n",
    "    re=re+ele\n",
    "avg=re/occurance\n",
    "print(\"Average of given numbers is {}\".format(avg))"
   ]
  },
  {
   "cell_type": "code",
   "execution_count": 6,
   "id": "26fdb54d",
   "metadata": {},
   "outputs": [],
   "source": [
    "result=lambda a,b:(a+b)/2 "
   ]
  },
  {
   "cell_type": "code",
   "execution_count": 7,
   "id": "2bfdc567",
   "metadata": {},
   "outputs": [
    {
     "data": {
      "text/plain": [
       "3.5"
      ]
     },
     "execution_count": 7,
     "metadata": {},
     "output_type": "execute_result"
    }
   ],
   "source": [
    "result(5,2)"
   ]
  },
  {
   "cell_type": "code",
   "execution_count": 17,
   "id": "b7a12016",
   "metadata": {},
   "outputs": [],
   "source": [
    "result1= lambda n:\"%d is even\"%(n) if n%2==0 else \"%d is odd\"%(n)"
   ]
  },
  {
   "cell_type": "code",
   "execution_count": 18,
   "id": "3d79ff33",
   "metadata": {},
   "outputs": [
    {
     "data": {
      "text/plain": [
       "'5 is odd'"
      ]
     },
     "execution_count": 18,
     "metadata": {},
     "output_type": "execute_result"
    }
   ],
   "source": [
    "result1(5)"
   ]
  },
  {
   "cell_type": "code",
   "execution_count": 19,
   "id": "dab6c6e4",
   "metadata": {},
   "outputs": [
    {
     "data": {
      "text/plain": [
       "'8 is even'"
      ]
     },
     "execution_count": 19,
     "metadata": {},
     "output_type": "execute_result"
    }
   ],
   "source": [
    "result1(8)"
   ]
  },
  {
   "cell_type": "code",
   "execution_count": null,
   "id": "46101980",
   "metadata": {},
   "outputs": [],
   "source": []
  }
 ],
 "metadata": {
  "kernelspec": {
   "display_name": "Python 3",
   "language": "python",
   "name": "python3"
  },
  "language_info": {
   "codemirror_mode": {
    "name": "ipython",
    "version": 3
   },
   "file_extension": ".py",
   "mimetype": "text/x-python",
   "name": "python",
   "nbconvert_exporter": "python",
   "pygments_lexer": "ipython3",
   "version": "3.8.8"
  }
 },
 "nbformat": 4,
 "nbformat_minor": 5
}
